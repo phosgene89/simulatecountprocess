{
 "cells": [
  {
   "cell_type": "markdown",
   "metadata": {},
   "source": [
    "# <center>Simulating Counting Processes with Python</center>\n",
    "\n",
    "This notebook documents my journey to understand and simulate counting processes. It covers homogeneous and inhomogeneous Poisson processes, as well as Hawkes processes with various conditional intensities.\n",
    "\n",
    "The simulation methods covered here are based on *Ogata's method of thinning*, detailed [here](https://pdfs.semanticscholar.org/9fb1/0a3c2dcec939784ce208e0e7e7fda4be895c.pdf). The simulation algorithms in Ogata's paper are the most straightforward to understand, but are not the most efficient.\n",
    "\n",
    "Feel free to contact me at gfeldman@tpg.com.au with any questions, comments or criticism.\n",
    "\n",
    "\n",
    "### Homogeneous Poisson Process\n",
    "We will first simulate a homogeneous Poisson process. This is fairly simple. It proceeds as follows:\n",
    "\n",
    "   Step 1. Take the pdf (probability density function) of the time between events (where $\\lambda$ is the rate of events):\n",
    "    \n",
    "$$ f(t) = \\lambda e^{- \\lambda t} $$\n",
    "\n",
    "   Step 2. Find the associated cdf (cumulative distribution function).\n",
    "    \n",
    "$$ F(t) = \\int_{0}^{t} \\lambda e^{- \\lambda s} ds = 1 - e^{- \\lambda t} $$\n",
    "\n",
    "   Step 3. Find the inverse of the cdf.\n",
    "    \n",
    "$$ F^{-1}(p(t<T)) = -\\frac{ln(1-p(t<T))}{\\lambda} $$\n",
    "\n",
    "   Step 4. Generate a random, uniformly distributed number $U$, between 0 and 1, to plug into $F^{-1}$.\n",
    "\n",
    "   Step 5. Use the inverse cdf to get a corresponding time since last event.\n",
    "   \n",
    "$$ \\Delta t = -\\frac{ln(U)}{\\lambda} $$\n",
    "    \n",
    "   Step 6. Repeat 4. and 5. until a sufficient number of interarrival times have been generated.\n",
    "\n",
    "This process will yield a sequence of time between events, which can be converted into arrival times or total counts."
   ]
  },
  {
   "cell_type": "code",
   "execution_count": 2,
   "metadata": {},
   "outputs": [],
   "source": [
    "import numpy as np\n",
    "import matplotlib.pyplot as plt"
   ]
  },
  {
   "cell_type": "code",
   "execution_count": 9,
   "metadata": {},
   "outputs": [
    {
     "data": {
      "image/png": "[encoded data removed]",
      "text/plain": [
       "<Figure size 432x288 with 1 Axes>"
      ]
     },
     "metadata": {
      "needs_background": "light"
     },
     "output_type": "display_data"
    }
   ],
   "source": [
    "# Play with these parametres to alter the rate time and number of simulated events.\n",
    "_lambda = 2\n",
    "n = 10\n",
    "\n",
    "# Do the simulation.\n",
    "U = np.random.uniform(0,1,n)\n",
    "interarrival_times = -np.log(U)/_lambda\n",
    "arrival_times = np.cumsum(interarrival_times)\n",
    "counts = np.arange(n)+1\n",
    "\n",
    "# Plot the results.\n",
    "plt.step(arrival_times, counts)\n",
    "plt.title(\"Simulation of Homogeneous Poisson Process\")\n",
    "plt.xlabel(\"Time\")\n",
    "plt.ylabel(\"Event count\")\n",
    "plt.show()"
   ]
  },
  {
   "cell_type": "markdown",
   "metadata": {},
   "source": [
    "### Inhomogeneous Poisson Process\n",
    "\n",
    "The process is easy enough for a homogeneous Poisson process, but when the intensity $\\lambda$ is time-varying (i.e. a function of $t$, $\\lambda(t)$), calculating $F^{-1}$ can become a very difficult (or impossible) task. Poisson processes with time-varying intensities are referred to as inhomogeneous.\n",
    "\n",
    "Instead of sampling directly from the inhomogeneous process, we will sample from a homogeneous Poisson process with $\\lambda_{homogeneous}>\\lambda(t)$ for all $t$. We then probabilistically reject events based on a comparison of $\\lambda_{homogeneous}$ and $\\lambda(t)$. This is possible due to the fact that we can easily evaluate $\\frac{\\lambda_{homogeneous}}{\\lambda(t)}$ for any value of t.\n",
    "\n",
    "The trick is to generate another random, uniformly distributed number $U_{1}$,between 0 and 1, each time we generate an event and reject that event whenever $U_{1}>\\frac{\\lambda_{homogeneous}}{\\lambda(t)}$. This accounts for \"extra\" events that are generated in periods where $\\lambda_{homogeneous}$ is higher than $\\lambda(t)$.\n",
    "\n",
    "For this example, we will assume\n",
    "\n",
    "$$\\lambda(t) = \\beta sin(\\alpha t) + |\\beta| $$"
   ]
  },
  {
   "cell_type": "code",
   "execution_count": 11,
   "metadata": {},
   "outputs": [],
   "source": [
    "def lambda_t(t, beta=1., alpha=0.5):\n",
    "    \n",
    "    return beta*np.sin(alpha*t)+np.abs(beta)"
   ]
  },
  {
   "cell_type": "code",
   "execution_count": 13,
   "metadata": {},
   "outputs": [
    {
     "data": {
      "image/png": "[encoded data removed]",
      "text/plain": [
       "<Figure size 432x288 with 1 Axes>"
      ]
     },
     "metadata": {
      "needs_background": "light"
     },
     "output_type": "display_data"
    }
   ],
   "source": [
    "# Play with these parametres to alter the rate time and number of simulated events.\n",
    "beta = 1.\n",
    "alpha = 0.5\n",
    "\n",
    "# We need to choose lambda to be greater than lambda_t at all times\n",
    "_lambda = 2*beta\n",
    "n = 10\n",
    "\n",
    "# Sample from homogeneous Poisson process.\n",
    "U = np.random.uniform(0,1,n)\n",
    "interarrival_times = -np.log(U)/_lambda\n",
    "arrival_times = np.cumsum(interarrival_times)\n",
    "\n",
    "# Do rejection sampling.\n",
    "thresholds = lambda_t(arrival_times)/_lambda\n",
    "U_1 = np.random.uniform(0,1,n)\n",
    "keep = U_1<thresholds\n",
    "\n",
    "arrival_times = arrival_times[keep]\n",
    "counts = np.arange(len(arrival_times))+1\n",
    "\n",
    "# Plot the results.\n",
    "plt.step(arrival_times, counts)\n",
    "plt.title(\"Simulation of Inhomogeneous Poisson Process\")\n",
    "plt.xlabel(\"Time\")\n",
    "plt.ylabel(\"Event count\")\n",
    "plt.show()"
   ]
  },
  {
   "cell_type": "markdown",
   "metadata": {},
   "source": [
    "## <center>Simulating Hawkes Processes</center>\n",
    "\n",
    "Hawkes processes are a generalisation of Poisson processes that allow past events to increase the intensity. The method of simulation is conceptually the same as for an inhomogeneous Poisson process, but we now need to account for a more complex intensity, $\\lambda(t|history)$, that is dependant on past events. The main implication is that we need to be a bit more careful in choosing our $\\lambda_{homogeneous}$, which requires us to generate arrival times one by one, in contrast to the vectorized examples above.\n",
    "\n",
    "The reason we need to be more careful about sampling is that for any given $\\lambda_{homogeneous}$, it is possible for a string of excitation events to push $\\lambda(t|history)$ above $\\lambda_{homogeneous}$ and ruin our rejection sampling process.\n",
    "\n",
    "The general procedure will be to restrict our samples to certain time frames (rejecting sampled times outside of it) in order to allow us to calculate $max(\\lambda(t|history))$ over a given time frame. This will allow us to choose an appropriate intensity for our homogeneous Poisson process. Note that we may have had to do this in the previous example if our $\\lambda(t)$ had been unbounded, though this would not represent a realistic scenario. \n",
    "\n",
    "### Hawkes Process with Exponentially Decaying Excitation\n",
    "\n",
    "For the first example, we will use an exponentially decaying $\\lambda(t|history)$\n",
    "\n",
    "$$\\lambda(t|history) = \\lambda_{base} + \\int_{-\\inf}^{t_{current}} \\alpha \\beta exp^{- \\beta (t_{current}-t)} dN_{t}$$\n",
    "\n",
    "We can take advantage of the fact that, in the time just after an event and just before the next event, $\\lambda(t|history)$ will be greatest at the start of the time interval. Hence, for an interval $[t_{N_{k}}, t_{N_{k+1}})$, we set $\\lambda_{homogeneous}=\\lambda(t_{N_{k}}|history)$.\n",
    "\n",
    "For this specific example, do not need to restrict each point simulation to a specific interval as our conditional intensity possesses proporties which allow us to choose $\\lambda_{homogeneous}$ without fear of $\\lambda(t|history)$ exceeding it."
   ]
  },
  {
   "cell_type": "code",
   "execution_count": 39,
   "metadata": {},
   "outputs": [],
   "source": [
    "def lambda_t(cur_time, hist, base_rate=2., alpha=20, beta=1.):\n",
    "    \n",
    "    if len(hist)==0:\n",
    "        return base_rate\n",
    "    \n",
    "    else:\n",
    "        \n",
    "        hist = np.cumsum(hist)\n",
    "        exp_arg = -beta*(cur_time-hist)\n",
    "        intensity = base_rate + np.sum(alpha*beta*np.exp(exp_arg))\n",
    "        return intensity"
   ]
  },
  {
   "cell_type": "code",
   "execution_count": 123,
   "metadata": {},
   "outputs": [
    {
     "data": {
      "image/png": "[encoded data removed]",
      "text/plain": [
       "<Figure size 432x288 with 1 Axes>"
      ]
     },
     "metadata": {
      "needs_background": "light"
     },
     "output_type": "display_data"
    }
   ],
   "source": [
    "# Play around with these parameters.\n",
    "base_rate = 2\n",
    "N = 100\n",
    "alpha = 2.\n",
    "beta = 1.\n",
    "\n",
    "# Simulate the process.\n",
    "hist = np.array([])\n",
    "time = 0\n",
    "n=0\n",
    "\n",
    "while n < N:\n",
    "    \n",
    "    _lambda = lambda_t(time, hist, base_rate, alpha, beta)\n",
    "    \n",
    "    U = np.random.uniform()\n",
    "    interarrival_time = -np.log(U)/_lambda\n",
    "    \n",
    "    _lambda_hist = lambda_t(interarrival_time, hist, base_rate, alpha, beta)\n",
    "    \n",
    "    if np.random.uniform()<_lambda_hist/_lambda:\n",
    "        \n",
    "        hist = np.append(hist, interarrival_time)\n",
    "        time += interarrival_time\n",
    "        n+=1\n",
    "  \n",
    "hist = np.cumsum(hist)\n",
    "counts = np.arange(len(hist))+1\n",
    "        \n",
    "# Plot the results.\n",
    "plt.step(hist, counts)\n",
    "plt.title(\"Simulation of Hawkes Process (Example 1)\")\n",
    "plt.xlabel(\"Time\")\n",
    "plt.ylabel(\"Event count\")\n",
    "plt.show()"
   ]
  },
  {
   "cell_type": "markdown",
   "metadata": {},
   "source": [
    "### Hawkes Process with Exponentially Increasing Excitation\n",
    "\n",
    "For the second example, we will use an exponentially increasing $\\lambda(t|history)$\n",
    "\n",
    "$$\\lambda(t|history) = \\lambda_{base} + \\int_{-\\inf}^{t} \\alpha \\beta exp^{\\beta (t_{current}-t)} dN_{t}$$\n",
    "\n",
    "In this example, for a fixed interval $[t_{current},t_{current}+\\Delta t)$, we know that $\\lambda(t|history)$ will be greatest at $t_{current}+\\Delta t$. Hence we set \n",
    "\n",
    "$$\\lambda_{homogeneous} = \\lambda(t_{current}+\\Delta t|history)$$\n",
    "\n",
    "in each interval.\n",
    "\n",
    "We now need to restrict simulated arrival times to the interval we are operating in, as $\\lambda_{homogeneous}$ is not necesarrily greater than or equal to $\\lambda(t|history)$ outside of this interval. As in the case of an inhomogeneous Poisson process with unbounded intensity, this scenario is also not realistic *unless* there is another process that causes $\\lambda(t|history)$ to become bounded.\n",
    "\n",
    "*Note: if you're following along with Ogata's paper, be aware that algorithm 3, step 8 should include \"set j = j+1\" and \"if $j = N_{*}^{i}$, go to step 11\".*"
   ]
  },
  {
   "cell_type": "code",
   "execution_count": 116,
   "metadata": {},
   "outputs": [],
   "source": [
    "# Loop version of homogeneous Poisson process simulation\n",
    "def homog_Poisson(rate, T):\n",
    "    \n",
    "    t = 0\n",
    "    arrival_times = []\n",
    "    \n",
    "    while t<T:\n",
    "        \n",
    "        U = np.random.uniform()\n",
    "        interarrival_time = -np.log(U)/rate\n",
    "        t+=interarrival_time\n",
    "        if t<T:\n",
    "            arrival_times.append(t)\n",
    "        \n",
    "    return np.array(arrival_times)"
   ]
  },
  {
   "cell_type": "code",
   "execution_count": 125,
   "metadata": {},
   "outputs": [
    {
     "name": "stderr",
     "output_type": "stream",
     "text": [
      "/home/greg/.local/lib/python3.6/site-packages/ipykernel_launcher.py:10: RuntimeWarning: overflow encountered in exp\n",
      "  # Remove the CWD from sys.path while we load stuff.\n"
     ]
    },
    {
     "data": {
      "image/png": "[encoded data removed]",
      "text/plain": [
       "<Figure size 432x288 with 1 Axes>"
      ]
     },
     "metadata": {
      "needs_background": "light"
     },
     "output_type": "display_data"
    }
   ],
   "source": [
    "base_rate = 2.\n",
    "delta_time = (1/base_rate)/10\n",
    "cur_time = 0\n",
    "hist = np.array([])\n",
    "n = 20\n",
    "max_time = 10\n",
    "\n",
    "while len(hist)<n:\n",
    "\n",
    "    # Set rate for homogeneous Poisson process and get arrival times for\n",
    "    # current time interval\n",
    "    _lambda = lambda_t(cur_time+delta_time, hist, base_rate, alpha, beta)\n",
    "    arrival_times = homog_Poisson(_lambda, delta_time) + cur_time\n",
    "    \n",
    "    if len(arrival_times)==0:\n",
    "        cur_time+=delta_time\n",
    "    \n",
    "    for j in range(len(arrival_times)):\n",
    "    \n",
    "        U_j = np.random.uniform()\n",
    "        lambda_hist = lambda_t(arrival_times[j], hist, base_rate, alpha, beta)\n",
    "        threshold = lambda_hist/_lambda\n",
    "    \n",
    "        if U_j<threshold:\n",
    "\n",
    "            hist = np.append(hist, arrival_times[j])\n",
    "            \n",
    "    cur_time+=delta_time\n",
    "    if cur_time>max_time:\n",
    "        break\n",
    "    \n",
    "counts = np.arange(len(hist))\n",
    "        \n",
    "# Plot the results.\n",
    "plt.step(hist, counts)\n",
    "plt.title(\"Simulation of Hawkes Process (Example 2)\")\n",
    "plt.xlabel(\"Time\")\n",
    "plt.ylabel(\"Event count\")\n",
    "plt.show()"
   ]
  },
  {
   "cell_type": "code",
   "execution_count": null,
   "metadata": {},
   "outputs": [],
   "source": []
  }
 ],
 "metadata": {
  "kernelspec": {
   "display_name": "Python 3",
   "language": "python",
   "name": "python3"
  },
  "language_info": {
   "codemirror_mode": {
    "name": "ipython",
    "version": 3
   },
   "file_extension": ".py",
   "mimetype": "text/x-python",
   "name": "python",
   "nbconvert_exporter": "python",
   "pygments_lexer": "ipython3",
   "version": "3.6.7"
  }
 },
 "nbformat": 4,
 "nbformat_minor": 2
}
